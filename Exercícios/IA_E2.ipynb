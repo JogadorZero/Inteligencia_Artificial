{
  "nbformat": 4,
  "nbformat_minor": 0,
  "metadata": {
    "colab": {
      "provenance": [],
      "authorship_tag": "ABX9TyPugjzFzl4YWTAxTR0bnFmW",
      "include_colab_link": true
    },
    "kernelspec": {
      "name": "python3",
      "display_name": "Python 3"
    },
    "language_info": {
      "name": "python"
    }
  },
  "cells": [
    {
      "cell_type": "markdown",
      "metadata": {
        "id": "view-in-github",
        "colab_type": "text"
      },
      "source": [
        "<a href=\"https://colab.research.google.com/github/JogadorZero/Inteligencia_Artificial/blob/main/IA_E2.ipynb\" target=\"_parent\"><img src=\"https://colab.research.google.com/assets/colab-badge.svg\" alt=\"Open In Colab\"/></a>"
      ]
    },
    {
      "cell_type": "code",
      "execution_count": 1,
      "metadata": {
        "id": "rr-pBuZjw1E0"
      },
      "outputs": [],
      "source": [
        "cidades = {\n",
        "\"Criciúma\": [\"Forquilhinha\" \"Nova Veneza\"],\n",
        "\"Forquilhinha\": [\"Criciúma\", \"Nova Veneza\", \"Siderópolis\"],\n",
        "\"Nova Veneza\": [\"Criciúma\", \"Forquilhinha\", \"Siderópolis\", \"Lauro Müller\"],\n",
        "\"Siderópolis\": [\"Forquilhinha\", \"Nova Veneza\", \"Orleans\"],\n",
        "\"Lauro Müller\": [\"Nova Veneza\", \"Orleans\"],\n",
        "\"Orleans\": [\"Siderópolis\", \"Lauro Müller\"]\n",
        "}"
      ]
    },
    {
      "cell_type": "code",
      "source": [
        "def busca_profundidade(cidades, partida, destino, visitados=None, caminho=None):\n",
        "\n",
        "  if visitados is None:\n",
        "    visitados = set()  # Inicializa o conjunto de visitados se não for fornecido\n",
        "  if caminho is None:\n",
        "    caminho = [partida]  # Inicializa o caminho com a cidade de partida se não for fornecido\n",
        "\n",
        "  visitados.add(partida)  # Marca a cidade atual como visitada\n",
        "\n",
        "  if partida == destino:  # Se a cidade atual for o destino, o caminho foi encontrado\n",
        "    return caminho\n",
        "\n",
        "  for vizinha in cidades[partida]:  # Itera sobre as cidades vizinhas\n",
        "    if vizinha not in visitados:  # Se a vizinha ainda não foi visitada\n",
        "      novo_caminho = busca_profundidade(cidades, vizinha, destino, visitados.copy(), caminho + [vizinha])\n",
        "      if novo_caminho:  # Se um caminho foi encontrado a partir da vizinha, retorna o caminho\n",
        "        return novo_caminho\n",
        "\n",
        "  return None\n",
        "\n",
        "# Encontrando um caminho entre duas cidades no sul de Santa Catarina\n",
        "partida = \"Siderópolis\"\n",
        "destino = \"Lauro Müller\"\n",
        "caminho = busca_profundidade(cidades, partida, destino)\n",
        "if caminho:\n",
        "  print(f\"O caminho de {partida} para {destino} é:\", \"->\".join(caminho))\n",
        "else:\n",
        "  print(f\"Nao ha caminho entre {partida} e {destino} no dicionario de cidades no sul de Santa Catarina.\")"
      ],
      "metadata": {
        "colab": {
          "base_uri": "https://localhost:8080/",
          "height": 356
        },
        "id": "UaVvSeISxHRe",
        "outputId": "8a6fcc3d-68a5-4424-d7ab-79d7f8fdf4eb"
      },
      "execution_count": 4,
      "outputs": [
        {
          "output_type": "error",
          "ename": "KeyError",
          "evalue": "'ForquilhinhaNova Veneza'",
          "traceback": [
            "\u001b[0;31m---------------------------------------------------------------------------\u001b[0m",
            "\u001b[0;31mKeyError\u001b[0m                                  Traceback (most recent call last)",
            "\u001b[0;32m<ipython-input-4-dd4db47022f8>\u001b[0m in \u001b[0;36m<cell line: 0>\u001b[0;34m()\u001b[0m\n\u001b[1;32m     22\u001b[0m \u001b[0mpartida\u001b[0m \u001b[0;34m=\u001b[0m \u001b[0;34m\"Siderópolis\"\u001b[0m\u001b[0;34m\u001b[0m\u001b[0;34m\u001b[0m\u001b[0m\n\u001b[1;32m     23\u001b[0m \u001b[0mdestino\u001b[0m \u001b[0;34m=\u001b[0m \u001b[0;34m\"Lauro Müller\"\u001b[0m\u001b[0;34m\u001b[0m\u001b[0;34m\u001b[0m\u001b[0m\n\u001b[0;32m---> 24\u001b[0;31m \u001b[0mcaminho\u001b[0m \u001b[0;34m=\u001b[0m \u001b[0mbusca_profundidade\u001b[0m\u001b[0;34m(\u001b[0m\u001b[0mcidades\u001b[0m\u001b[0;34m,\u001b[0m \u001b[0mpartida\u001b[0m\u001b[0;34m,\u001b[0m \u001b[0mdestino\u001b[0m\u001b[0;34m)\u001b[0m\u001b[0;34m\u001b[0m\u001b[0;34m\u001b[0m\u001b[0m\n\u001b[0m\u001b[1;32m     25\u001b[0m \u001b[0;32mif\u001b[0m \u001b[0mcaminho\u001b[0m\u001b[0;34m:\u001b[0m\u001b[0;34m\u001b[0m\u001b[0;34m\u001b[0m\u001b[0m\n\u001b[1;32m     26\u001b[0m   \u001b[0mprint\u001b[0m\u001b[0;34m(\u001b[0m\u001b[0;34mf\"O caminho de {partida} para {destino} é:\"\u001b[0m\u001b[0;34m,\u001b[0m \u001b[0;34m\"->\"\u001b[0m\u001b[0;34m.\u001b[0m\u001b[0mjoin\u001b[0m\u001b[0;34m(\u001b[0m\u001b[0mcaminho\u001b[0m\u001b[0;34m)\u001b[0m\u001b[0;34m)\u001b[0m\u001b[0;34m\u001b[0m\u001b[0;34m\u001b[0m\u001b[0m\n",
            "\u001b[0;32m<ipython-input-4-dd4db47022f8>\u001b[0m in \u001b[0;36mbusca_profundidade\u001b[0;34m(cidades, partida, destino, visitados, caminho)\u001b[0m\n\u001b[1;32m     13\u001b[0m   \u001b[0;32mfor\u001b[0m \u001b[0mvizinha\u001b[0m \u001b[0;32min\u001b[0m \u001b[0mcidades\u001b[0m\u001b[0;34m[\u001b[0m\u001b[0mpartida\u001b[0m\u001b[0;34m]\u001b[0m\u001b[0;34m:\u001b[0m  \u001b[0;31m# Itera sobre as cidades vizinhas\u001b[0m\u001b[0;34m\u001b[0m\u001b[0;34m\u001b[0m\u001b[0m\n\u001b[1;32m     14\u001b[0m     \u001b[0;32mif\u001b[0m \u001b[0mvizinha\u001b[0m \u001b[0;32mnot\u001b[0m \u001b[0;32min\u001b[0m \u001b[0mvisitados\u001b[0m\u001b[0;34m:\u001b[0m  \u001b[0;31m# Se a vizinha ainda não foi visitada\u001b[0m\u001b[0;34m\u001b[0m\u001b[0;34m\u001b[0m\u001b[0m\n\u001b[0;32m---> 15\u001b[0;31m       \u001b[0mnovo_caminho\u001b[0m \u001b[0;34m=\u001b[0m \u001b[0mbusca_profundidade\u001b[0m\u001b[0;34m(\u001b[0m\u001b[0mcidades\u001b[0m\u001b[0;34m,\u001b[0m \u001b[0mvizinha\u001b[0m\u001b[0;34m,\u001b[0m \u001b[0mdestino\u001b[0m\u001b[0;34m,\u001b[0m \u001b[0mvisitados\u001b[0m\u001b[0;34m.\u001b[0m\u001b[0mcopy\u001b[0m\u001b[0;34m(\u001b[0m\u001b[0;34m)\u001b[0m\u001b[0;34m,\u001b[0m \u001b[0mcaminho\u001b[0m \u001b[0;34m+\u001b[0m \u001b[0;34m[\u001b[0m\u001b[0mvizinha\u001b[0m\u001b[0;34m]\u001b[0m\u001b[0;34m)\u001b[0m\u001b[0;34m\u001b[0m\u001b[0;34m\u001b[0m\u001b[0m\n\u001b[0m\u001b[1;32m     16\u001b[0m       \u001b[0;32mif\u001b[0m \u001b[0mnovo_caminho\u001b[0m\u001b[0;34m:\u001b[0m  \u001b[0;31m# Se um caminho foi encontrado a partir da vizinha, retorna o caminho\u001b[0m\u001b[0;34m\u001b[0m\u001b[0;34m\u001b[0m\u001b[0m\n\u001b[1;32m     17\u001b[0m         \u001b[0;32mreturn\u001b[0m \u001b[0mnovo_caminho\u001b[0m\u001b[0;34m\u001b[0m\u001b[0;34m\u001b[0m\u001b[0m\n",
            "\u001b[0;32m<ipython-input-4-dd4db47022f8>\u001b[0m in \u001b[0;36mbusca_profundidade\u001b[0;34m(cidades, partida, destino, visitados, caminho)\u001b[0m\n\u001b[1;32m     13\u001b[0m   \u001b[0;32mfor\u001b[0m \u001b[0mvizinha\u001b[0m \u001b[0;32min\u001b[0m \u001b[0mcidades\u001b[0m\u001b[0;34m[\u001b[0m\u001b[0mpartida\u001b[0m\u001b[0;34m]\u001b[0m\u001b[0;34m:\u001b[0m  \u001b[0;31m# Itera sobre as cidades vizinhas\u001b[0m\u001b[0;34m\u001b[0m\u001b[0;34m\u001b[0m\u001b[0m\n\u001b[1;32m     14\u001b[0m     \u001b[0;32mif\u001b[0m \u001b[0mvizinha\u001b[0m \u001b[0;32mnot\u001b[0m \u001b[0;32min\u001b[0m \u001b[0mvisitados\u001b[0m\u001b[0;34m:\u001b[0m  \u001b[0;31m# Se a vizinha ainda não foi visitada\u001b[0m\u001b[0;34m\u001b[0m\u001b[0;34m\u001b[0m\u001b[0m\n\u001b[0;32m---> 15\u001b[0;31m       \u001b[0mnovo_caminho\u001b[0m \u001b[0;34m=\u001b[0m \u001b[0mbusca_profundidade\u001b[0m\u001b[0;34m(\u001b[0m\u001b[0mcidades\u001b[0m\u001b[0;34m,\u001b[0m \u001b[0mvizinha\u001b[0m\u001b[0;34m,\u001b[0m \u001b[0mdestino\u001b[0m\u001b[0;34m,\u001b[0m \u001b[0mvisitados\u001b[0m\u001b[0;34m.\u001b[0m\u001b[0mcopy\u001b[0m\u001b[0;34m(\u001b[0m\u001b[0;34m)\u001b[0m\u001b[0;34m,\u001b[0m \u001b[0mcaminho\u001b[0m \u001b[0;34m+\u001b[0m \u001b[0;34m[\u001b[0m\u001b[0mvizinha\u001b[0m\u001b[0;34m]\u001b[0m\u001b[0;34m)\u001b[0m\u001b[0;34m\u001b[0m\u001b[0;34m\u001b[0m\u001b[0m\n\u001b[0m\u001b[1;32m     16\u001b[0m       \u001b[0;32mif\u001b[0m \u001b[0mnovo_caminho\u001b[0m\u001b[0;34m:\u001b[0m  \u001b[0;31m# Se um caminho foi encontrado a partir da vizinha, retorna o caminho\u001b[0m\u001b[0;34m\u001b[0m\u001b[0;34m\u001b[0m\u001b[0m\n\u001b[1;32m     17\u001b[0m         \u001b[0;32mreturn\u001b[0m \u001b[0mnovo_caminho\u001b[0m\u001b[0;34m\u001b[0m\u001b[0;34m\u001b[0m\u001b[0m\n",
            "\u001b[0;32m<ipython-input-4-dd4db47022f8>\u001b[0m in \u001b[0;36mbusca_profundidade\u001b[0;34m(cidades, partida, destino, visitados, caminho)\u001b[0m\n\u001b[1;32m     13\u001b[0m   \u001b[0;32mfor\u001b[0m \u001b[0mvizinha\u001b[0m \u001b[0;32min\u001b[0m \u001b[0mcidades\u001b[0m\u001b[0;34m[\u001b[0m\u001b[0mpartida\u001b[0m\u001b[0;34m]\u001b[0m\u001b[0;34m:\u001b[0m  \u001b[0;31m# Itera sobre as cidades vizinhas\u001b[0m\u001b[0;34m\u001b[0m\u001b[0;34m\u001b[0m\u001b[0m\n\u001b[1;32m     14\u001b[0m     \u001b[0;32mif\u001b[0m \u001b[0mvizinha\u001b[0m \u001b[0;32mnot\u001b[0m \u001b[0;32min\u001b[0m \u001b[0mvisitados\u001b[0m\u001b[0;34m:\u001b[0m  \u001b[0;31m# Se a vizinha ainda não foi visitada\u001b[0m\u001b[0;34m\u001b[0m\u001b[0;34m\u001b[0m\u001b[0m\n\u001b[0;32m---> 15\u001b[0;31m       \u001b[0mnovo_caminho\u001b[0m \u001b[0;34m=\u001b[0m \u001b[0mbusca_profundidade\u001b[0m\u001b[0;34m(\u001b[0m\u001b[0mcidades\u001b[0m\u001b[0;34m,\u001b[0m \u001b[0mvizinha\u001b[0m\u001b[0;34m,\u001b[0m \u001b[0mdestino\u001b[0m\u001b[0;34m,\u001b[0m \u001b[0mvisitados\u001b[0m\u001b[0;34m.\u001b[0m\u001b[0mcopy\u001b[0m\u001b[0;34m(\u001b[0m\u001b[0;34m)\u001b[0m\u001b[0;34m,\u001b[0m \u001b[0mcaminho\u001b[0m \u001b[0;34m+\u001b[0m \u001b[0;34m[\u001b[0m\u001b[0mvizinha\u001b[0m\u001b[0;34m]\u001b[0m\u001b[0;34m)\u001b[0m\u001b[0;34m\u001b[0m\u001b[0;34m\u001b[0m\u001b[0m\n\u001b[0m\u001b[1;32m     16\u001b[0m       \u001b[0;32mif\u001b[0m \u001b[0mnovo_caminho\u001b[0m\u001b[0;34m:\u001b[0m  \u001b[0;31m# Se um caminho foi encontrado a partir da vizinha, retorna o caminho\u001b[0m\u001b[0;34m\u001b[0m\u001b[0;34m\u001b[0m\u001b[0m\n\u001b[1;32m     17\u001b[0m         \u001b[0;32mreturn\u001b[0m \u001b[0mnovo_caminho\u001b[0m\u001b[0;34m\u001b[0m\u001b[0;34m\u001b[0m\u001b[0m\n",
            "\u001b[0;32m<ipython-input-4-dd4db47022f8>\u001b[0m in \u001b[0;36mbusca_profundidade\u001b[0;34m(cidades, partida, destino, visitados, caminho)\u001b[0m\n\u001b[1;32m     11\u001b[0m     \u001b[0;32mreturn\u001b[0m \u001b[0mcaminho\u001b[0m\u001b[0;34m\u001b[0m\u001b[0;34m\u001b[0m\u001b[0m\n\u001b[1;32m     12\u001b[0m \u001b[0;34m\u001b[0m\u001b[0m\n\u001b[0;32m---> 13\u001b[0;31m   \u001b[0;32mfor\u001b[0m \u001b[0mvizinha\u001b[0m \u001b[0;32min\u001b[0m \u001b[0mcidades\u001b[0m\u001b[0;34m[\u001b[0m\u001b[0mpartida\u001b[0m\u001b[0;34m]\u001b[0m\u001b[0;34m:\u001b[0m  \u001b[0;31m# Itera sobre as cidades vizinhas\u001b[0m\u001b[0;34m\u001b[0m\u001b[0;34m\u001b[0m\u001b[0m\n\u001b[0m\u001b[1;32m     14\u001b[0m     \u001b[0;32mif\u001b[0m \u001b[0mvizinha\u001b[0m \u001b[0;32mnot\u001b[0m \u001b[0;32min\u001b[0m \u001b[0mvisitados\u001b[0m\u001b[0;34m:\u001b[0m  \u001b[0;31m# Se a vizinha ainda não foi visitada\u001b[0m\u001b[0;34m\u001b[0m\u001b[0;34m\u001b[0m\u001b[0m\n\u001b[1;32m     15\u001b[0m       \u001b[0mnovo_caminho\u001b[0m \u001b[0;34m=\u001b[0m \u001b[0mbusca_profundidade\u001b[0m\u001b[0;34m(\u001b[0m\u001b[0mcidades\u001b[0m\u001b[0;34m,\u001b[0m \u001b[0mvizinha\u001b[0m\u001b[0;34m,\u001b[0m \u001b[0mdestino\u001b[0m\u001b[0;34m,\u001b[0m \u001b[0mvisitados\u001b[0m\u001b[0;34m.\u001b[0m\u001b[0mcopy\u001b[0m\u001b[0;34m(\u001b[0m\u001b[0;34m)\u001b[0m\u001b[0;34m,\u001b[0m \u001b[0mcaminho\u001b[0m \u001b[0;34m+\u001b[0m \u001b[0;34m[\u001b[0m\u001b[0mvizinha\u001b[0m\u001b[0;34m]\u001b[0m\u001b[0;34m)\u001b[0m\u001b[0;34m\u001b[0m\u001b[0;34m\u001b[0m\u001b[0m\n",
            "\u001b[0;31mKeyError\u001b[0m: 'ForquilhinhaNova Veneza'"
          ]
        }
      ]
    }
  ]
}