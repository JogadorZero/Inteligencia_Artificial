{
  "nbformat": 4,
  "nbformat_minor": 0,
  "metadata": {
    "colab": {
      "provenance": [],
      "authorship_tag": "ABX9TyMFiHtolgqMrQfbALMivH+3",
      "include_colab_link": true
    },
    "kernelspec": {
      "name": "python3",
      "display_name": "Python 3"
    },
    "language_info": {
      "name": "python"
    }
  },
  "cells": [
    {
      "cell_type": "markdown",
      "metadata": {
        "id": "view-in-github",
        "colab_type": "text"
      },
      "source": [
        "<a href=\"https://colab.research.google.com/github/JogadorZero/Inteligencia_Artificial/blob/main/IA_E1.ipynb\" target=\"_parent\"><img src=\"https://colab.research.google.com/assets/colab-badge.svg\" alt=\"Open In Colab\"/></a>"
      ]
    },
    {
      "cell_type": "code",
      "execution_count": 8,
      "metadata": {
        "id": "tozhggPyrsjA"
      },
      "outputs": [],
      "source": [
        "grafo_metro = {\n",
        "'Barra Funda': ['Palmeiras-Barra Funda', 'Marechal Deodoro'],\n",
        "'Palmeiras-Barra Funda': ['Barra Funda', 'Paulista', 'Luz'],\n",
        "'Marechal Deodoro': ['Barra Funda', 'Santa Cecília'],\n",
        "'Paulista': ['Consolação', 'Palmeiras-Barra Funda'],\n",
        "'Luz': ['Palmeiras-Barra Funda', 'Sé', 'República'],\n",
        "'Consolação': ['Paulista', 'Clínicas'],\n",
        "'Santa Cecília': ['Marechal Deodoro', 'República'],\n",
        "'Sé': ['Luz', 'Anhangabaú'],\n",
        "'República': ['Luz', 'Santa Cecília', 'Anhangabaú'],\n",
        "'Clínicas': ['Consolação', 'Sumaré'],\n",
        "'Anhangabaú': ['Sé', 'República'],\n",
        "'Sumaré': ['Clínicas']\n",
        "}\n",
        "\n",
        "def busca_largura(grafo, inicio, objetivo):\n",
        "  fila = [(inicio, [inicio])]\n",
        "  visitados = set()\n",
        "\n",
        "  while fila:\n",
        "    (vertice, caminho) = fila.pop(0)\n",
        "    if vertice not in visitados:\n",
        "      if vertice == objetivo:\n",
        "        return caminho\n",
        "      visitados.add(vertice)\n",
        "      for vizinho in grafo[vertice]:\n",
        "        if vizinho not in visitados:\n",
        "          fila.append((vizinho, caminho + [vizinho]))\n",
        "  return None"
      ]
    },
    {
      "cell_type": "code",
      "source": [
        "inicio = 'Marechal Deodoro'\n",
        "objetivo = 'Luz'\n",
        "caminho = busca_largura(grafo_metro, inicio, objetivo)\n",
        "\n",
        "if caminho:\n",
        "    print(f\"Caminho de {inicio} para {objetivo}: {caminho}\")\n",
        "else:\n",
        "    print(f\"Não foi encontrado um caminho de {inicio} para {objetivo}\")"
      ],
      "metadata": {
        "colab": {
          "base_uri": "https://localhost:8080/"
        },
        "id": "ckl49EZutWqp",
        "outputId": "dee9c62a-4cb0-4d5b-eeca-c66ce6ad0f6d"
      },
      "execution_count": 9,
      "outputs": [
        {
          "output_type": "stream",
          "name": "stdout",
          "text": [
            "Caminho de Marechal Deodoro para Luz: ['Marechal Deodoro', 'Barra Funda', 'Palmeiras-Barra Funda', 'Luz']\n"
          ]
        }
      ]
    }
  ]
}